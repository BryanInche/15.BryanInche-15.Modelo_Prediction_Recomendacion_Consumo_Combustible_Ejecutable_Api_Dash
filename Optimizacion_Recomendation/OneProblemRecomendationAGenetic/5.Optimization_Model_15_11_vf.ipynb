{
 "cells": [
  {
   "cell_type": "markdown",
   "id": "2355e66d-bf8e-4a54-872d-de6b2e092693",
   "metadata": {},
   "source": [
    "# 1. Cargamos los datos de Pronostico ya predichos por el Modelo Machine Learning"
   ]
  },
  {
   "cell_type": "code",
   "execution_count": 2,
   "id": "23257238-265f-4004-91d7-b280dcaf6520",
   "metadata": {},
   "outputs": [],
   "source": [
    "# Leer el archivo Parquet en un DataFrame de pandas\n",
    "df = pd.read_parquet('train_lstm_tail_50.parquet', engine='pyarrow')"
   ]
  },
  {
   "cell_type": "code",
   "execution_count": 2,
   "id": "f4805d69-9fae-4059-abd0-fbc018435f64",
   "metadata": {},
   "outputs": [],
   "source": [
    "# df.tail()"
   ]
  },
  {
   "cell_type": "markdown",
   "id": "4f98da51-58ee-4e5d-ba28-42dca6a74390",
   "metadata": {},
   "source": [
    "### Filtramos los datos o registros para 1 solo caso de Optimizacion(porque LSTM, necesito 4 registros atras para predecir futuro)"
   ]
  },
  {
   "cell_type": "code",
   "execution_count": 4,
   "id": "a663fcf6-89a1-4242-84a5-d6463e310841",
   "metadata": {},
   "outputs": [],
   "source": [
    "datos_genetic = df.head(4)"
   ]
  },
  {
   "cell_type": "markdown",
   "id": "c8c72a05-307e-4980-93cc-6edb646d557b",
   "metadata": {},
   "source": [
    "# 2. Cargamos el Modelo de Machine Learning Entrenado"
   ]
  },
  {
   "cell_type": "code",
   "execution_count": 6,
   "id": "e383f2fc-1991-4a46-8b15-e61ef65e6637",
   "metadata": {},
   "outputs": [
    {
     "name": "stderr",
     "output_type": "stream",
     "text": [
      "WARNING:absl:Compiled the loaded model, but the compiled metrics have yet to be built. `model.compile_metrics` will be empty until you train or evaluate the model.\n"
     ]
    }
   ],
   "source": [
    "import tensorflow as tf\n",
    "# Opcion 1\n",
    "# from tensorflow.keras.models import load_model\n",
    "# modelo_lstm = load_model('modelo_lstm_14_var.h5')\n",
    "\n",
    "# Opcion 2\n",
    "# # Cargar el modelo LSTM guardado\n",
    "modelo_lstm = tf.keras.models.load_model('modelo_lstm_14_var.h5')"
   ]
  },
  {
   "cell_type": "markdown",
   "id": "d641eed9-a499-480c-bc3e-0efc24ef7d3a",
   "metadata": {},
   "source": [
    "# 3. Construimos el Algoritmo Evolutivo"
   ]
  },
  {
   "cell_type": "markdown",
   "id": "74d23162-a62d-4863-80aa-f293eed7dc07",
   "metadata": {},
   "source": [
    "## PASO 1"
   ]
  },
  {
   "cell_type": "markdown",
   "id": "c21b0d44-3abd-42c6-a4c6-9d7e30d3ac36",
   "metadata": {},
   "source": [
    "### Función para generar los límites dinámicos basados en ±5 unidades "
   ]
  },
  {
   "cell_type": "code",
   "execution_count": 7,
   "id": "e9153401-47c0-4ea9-91a5-b51a2dbb33a9",
   "metadata": {},
   "outputs": [],
   "source": [
    "import numpy as np\n",
    "import pandas as pd\n",
    "import numpy as np\n",
    "import random\n",
    "\n",
    "# Función para generar los límites dinámicos basados en ±5 unidades\n",
    "def generate_dynamic_limits(row):\n",
    "    \"\"\"\n",
    "    Genera X_min y X_max para una fila específica restando y sumando 5 unidades respectivamente.\n",
    "    \n",
    "    Parameters:\n",
    "    row (array-like): Fila del DataFrame.\n",
    "    \n",
    "    Returns:\n",
    "    X_min, X_max (arrays): Arrays con los límites mínimos y máximos.\n",
    "    \"\"\"\n",
    "    X_min = row - 2\n",
    "    X_max = row + 2\n",
    "    return X_min, X_max"
   ]
  },
  {
   "cell_type": "markdown",
   "id": "df9851d2-3972-4e9f-bc3f-cb8cf3530a58",
   "metadata": {},
   "source": [
    "## PASO 2"
   ]
  },
  {
   "cell_type": "markdown",
   "id": "b317c762-5f24-4abc-b992-6fa49cf35bea",
   "metadata": {},
   "source": [
    "### Función para generar un individuo"
   ]
  },
  {
   "cell_type": "code",
   "execution_count": 8,
   "id": "b5a8fa2c-f973-4bf9-9188-9f31b056878c",
   "metadata": {},
   "outputs": [],
   "source": [
    "# Función para generar un individuo\n",
    "def generate_individual(random, df, start_index, n_var_independientes):\n",
    "    \"\"\"\n",
    "    Genera un individuo basado en 4 filas consecutivas del DataFrame,\n",
    "    usando los límites dinámicos ±2 para cada valor.\n",
    "    \n",
    "    Parameters:\n",
    "    random (Random): Generador aleatorio.\n",
    "    df (DataFrame): DataFrame con los datos originales.\n",
    "    start_index (int): Índice de inicio para seleccionar las 4 filas consecutivas.\n",
    "    n_var_independientes (int): Número de variables independientes a considerar (columnas).\n",
    "    \n",
    "    Returns:\n",
    "    individual (array): Array de tamaño (4, n_var_independientes) con los valores generados.\n",
    "    \"\"\"\n",
    "    individual = []\n",
    "    \n",
    "    # Asegurarnos de trabajar solo con las primeras `n_var_independientes` columnas\n",
    "    df_independientes = df.iloc[:, :n_var_independientes]\n",
    "    \n",
    "    for i in range(len(datos_genetic)):  # len(datos_genetic)  = 4 (numero de pasos atras que utilizaste para entrenar la LSTM)\n",
    "        # Seleccionar la fila i (de start_index a start_index+3) con solo n_var_independientes columnas\n",
    "        row = df_independientes.iloc[start_index + i].values\n",
    "        \n",
    "        # Generar límites dinámicos para la fila actual\n",
    "        X_min, X_max = generate_dynamic_limits(row)\n",
    "\n",
    "        # Imprimir los límites generados para depuración\n",
    "        print(f\"Fila {i} - X_min: {X_min}\")\n",
    "        print(f\"Fila {i} - X_max: {X_max}\")\n",
    "\n",
    "        # Generar una fila del individuo respetando los límites\n",
    "        random_row = [\n",
    "            random.uniform(X_min[j], X_max[j]) for j in range(len(row))\n",
    "        ]\n",
    "        \n",
    "        # Añadir la fila generada al individuo\n",
    "        individual.append(random_row)\n",
    "    \n",
    "    return np.array(individual)"
   ]
  },
  {
   "cell_type": "markdown",
   "id": "e6a47f34-c1bb-40c5-855b-43b5544bd1aa",
   "metadata": {},
   "source": [
    "## Generar un individuo"
   ]
  },
  {
   "cell_type": "code",
   "execution_count": 19,
   "id": "b08b7213-a1e1-4e1d-a01e-bab8b7cd2b52",
   "metadata": {},
   "outputs": [],
   "source": [
    "# # Semilla para reproducibilidad\n",
    "# random.seed(42)\n",
    "\n",
    "# # Generar un individuo\n",
    "# individuo = generate_individual(random, datos_genetic, start_index=0, n_var_independientes=14)\n",
    "# individuo"
   ]
  },
  {
   "cell_type": "markdown",
   "id": "8f39a860-5be5-4cea-bcb0-ccb3fc712d22",
   "metadata": {},
   "source": [
    "## Paso 3 "
   ]
  },
  {
   "cell_type": "markdown",
   "id": "bded90e6-1b33-483c-829d-affee32b34b4",
   "metadata": {},
   "source": [
    "### Función para generar la población mejorada con validaciones y depuración"
   ]
  },
  {
   "cell_type": "code",
   "execution_count": 10,
   "id": "7512f170-02db-4a4f-bf5a-cfb0ec912c46",
   "metadata": {},
   "outputs": [],
   "source": [
    "# Función para generar la población mejorada con validaciones y depuración\n",
    "def generate_population(n_individuos_poblacion, random, df, start_index, n_var_independientes):\n",
    "    \"\"\"\n",
    "    Genera una población de individuos.\n",
    "    \n",
    "    Parameters:\n",
    "    pop_size (int): Tamaño de la población(Numero de individuos para la poblacion)\n",
    "    random (Random): Generador aleatorio.\n",
    "    df (DataFrame): DataFrame con los datos originales.\n",
    "    start_index (int): Índice de inicio para seleccionar las filas.\n",
    "    n_var_independientes (int): Número de variables independientes.\n",
    "    \n",
    "    Returns:\n",
    "    list: Lista de individuos generados.\n",
    "    \"\"\"\n",
    "    population = []\n",
    "    \n",
    "    for i in range(n_individuos_poblacion):\n",
    "        # Generar un individuo\n",
    "        individual = generate_individual(random, df, start_index, n_var_independientes)\n",
    "        \n",
    "        # Validar que el individuo se generó correctamente\n",
    "        print(f\"\\nIndividuo {i+1}:\")\n",
    "        print(individual)\n",
    "        \n",
    "        # Añadir el individuo a la población\n",
    "        population.append(individual)\n",
    "    \n",
    "    # Imprimir la forma de la población generada\n",
    "    print(\"\\nTamaño de la población generada:\", len(population))\n",
    "    print(\"Dimensiones de cada individuo:\", np.array(population).shape)\n",
    "    \n",
    "    return population"
   ]
  },
  {
   "cell_type": "code",
   "execution_count": 20,
   "id": "d595a1bc-94fc-4ece-b605-9cfc0750cbef",
   "metadata": {},
   "outputs": [],
   "source": [
    "# # Generar la población\n",
    "# poblacion = generate_population(n_individuos_poblacion=3, random=random, df=datos_genetic, start_index=0, n_var_independientes=14)\n",
    "# poblacion"
   ]
  },
  {
   "cell_type": "markdown",
   "id": "4b9018f7-c98e-4901-8f0a-0bd9f90d6941",
   "metadata": {},
   "source": [
    "## Paso 4"
   ]
  },
  {
   "cell_type": "markdown",
   "id": "4681a1d4-dc5a-4e99-bd91-d958be391573",
   "metadata": {},
   "source": [
    "### Funcion fitness, que ayude a evaluar los individuos generados"
   ]
  },
  {
   "cell_type": "code",
   "execution_count": 12,
   "id": "5b4b2e8a-808d-447e-82a2-0af17c0d9786",
   "metadata": {},
   "outputs": [],
   "source": [
    "def fitness_function(candidates, args, modelo_lstm):\n",
    "    fitness_values = []\n",
    "    for candidate in candidates:\n",
    "        # Ajustar la forma del individuo para que sea compatible con la entrada del modelo LSTM\n",
    "        individuo_reshape = np.array(candidate).reshape(1, 4, 14)\n",
    "        \n",
    "        # Realizar la predicción usando el modelo LSTM\n",
    "        prediccion = modelo_lstm.predict(individuo_reshape)\n",
    "        \n",
    "        # Extraer el valor de la predicción (consumo de combustible) y añadirlo a la lista de fitness\n",
    "        fitness_values.append(prediccion[0][0])  # Asegúrate de que `prediccion` tenga la forma correcta\n",
    "    return fitness_values"
   ]
  },
  {
   "cell_type": "code",
   "execution_count": 21,
   "id": "20838021-9cc2-4af2-bb58-196ea2b0c45c",
   "metadata": {},
   "outputs": [],
   "source": [
    "# # Generar la población inicial\n",
    "# poblacion = generate_population(n_individuos_poblacion=3, random=random, df=datos_genetic, start_index=0, n_var_independientes=14)\n",
    "\n",
    "# # Evaluar la función de fitness en la población generada\n",
    "# fitness_scores = fitness_function(candidates=poblacion, args=None, modelo_lstm=modelo_lstm)\n",
    "# print(f\"Fitness scores: {fitness_scores}\")"
   ]
  },
  {
   "cell_type": "markdown",
   "id": "01ccdd3a-5244-48fa-a57d-19f2af549299",
   "metadata": {},
   "source": [
    "### Codigo Final Consolidado"
   ]
  },
  {
   "cell_type": "code",
   "execution_count": 267,
   "id": "3a1be975-f64d-4ea9-b347-ffe223d361d3",
   "metadata": {},
   "outputs": [],
   "source": [
    "#x, y, z, efhcargado,efhvacio, distancia_ruta_pendiente_grados\n",
    "# actual_gear (+- 1), roll"
   ]
  },
  {
   "cell_type": "code",
   "execution_count": 36,
   "id": "8c8c62fb-3e2b-4307-add8-5ec261867c1e",
   "metadata": {},
   "outputs": [
    {
     "name": "stderr",
     "output_type": "stream",
     "text": [
      "WARNING:absl:Compiled the loaded model, but the compiled metrics have yet to be built. `model.compile_metrics` will be empty until you train or evaluate the model.\n"
     ]
    },
    {
     "name": "stdout",
     "output_type": "stream",
     "text": [
      "Ejecutando 3 generaciones...\n",
      "\u001b[1m1/1\u001b[0m \u001b[32m━━━━━━━━━━━━━━━━━━━━\u001b[0m\u001b[37m\u001b[0m \u001b[1m0s\u001b[0m 196ms/step\n",
      "\u001b[1m1/1\u001b[0m \u001b[32m━━━━━━━━━━━━━━━━━━━━\u001b[0m\u001b[37m\u001b[0m \u001b[1m0s\u001b[0m 18ms/step\n",
      "\u001b[1m1/1\u001b[0m \u001b[32m━━━━━━━━━━━━━━━━━━━━\u001b[0m\u001b[37m\u001b[0m \u001b[1m0s\u001b[0m 17ms/step\n",
      "\u001b[1m1/1\u001b[0m \u001b[32m━━━━━━━━━━━━━━━━━━━━\u001b[0m\u001b[37m\u001b[0m \u001b[1m0s\u001b[0m 20ms/step\n",
      "\u001b[1m1/1\u001b[0m \u001b[32m━━━━━━━━━━━━━━━━━━━━\u001b[0m\u001b[37m\u001b[0m \u001b[1m0s\u001b[0m 17ms/step\n",
      "Evaluando Generación 0...\n",
      "\n",
      "Fitness de la Generación 0: [19.575418, 181.35786, 29.671417, 40.29173, 336.7523]\n",
      "\u001b[1m1/1\u001b[0m \u001b[32m━━━━━━━━━━━━━━━━━━━━\u001b[0m\u001b[37m\u001b[0m \u001b[1m0s\u001b[0m 17ms/step\n",
      "\u001b[1m1/1\u001b[0m \u001b[32m━━━━━━━━━━━━━━━━━━━━\u001b[0m\u001b[37m\u001b[0m \u001b[1m0s\u001b[0m 17ms/step\n",
      "\u001b[1m1/1\u001b[0m \u001b[32m━━━━━━━━━━━━━━━━━━━━\u001b[0m\u001b[37m\u001b[0m \u001b[1m0s\u001b[0m 17ms/step\n",
      "\u001b[1m1/1\u001b[0m \u001b[32m━━━━━━━━━━━━━━━━━━━━\u001b[0m\u001b[37m\u001b[0m \u001b[1m0s\u001b[0m 17ms/step\n",
      "Evaluando Generación 1...\n",
      "\n",
      "Fitness de la Generación 1: [40.29173, 19.575418, 79.67817, 25.569904]\n",
      "\u001b[1m1/1\u001b[0m \u001b[32m━━━━━━━━━━━━━━━━━━━━\u001b[0m\u001b[37m\u001b[0m \u001b[1m0s\u001b[0m 17ms/step\n",
      "\u001b[1m1/1\u001b[0m \u001b[32m━━━━━━━━━━━━━━━━━━━━\u001b[0m\u001b[37m\u001b[0m \u001b[1m0s\u001b[0m 17ms/step\n",
      "\u001b[1m1/1\u001b[0m \u001b[32m━━━━━━━━━━━━━━━━━━━━\u001b[0m\u001b[37m\u001b[0m \u001b[1m0s\u001b[0m 17ms/step\n",
      "\u001b[1m1/1\u001b[0m \u001b[32m━━━━━━━━━━━━━━━━━━━━\u001b[0m\u001b[37m\u001b[0m \u001b[1m0s\u001b[0m 16ms/step\n",
      "Evaluando Generación 2...\n",
      "\n",
      "Fitness de la Generación 2: [19.575418, 19.575418, 19.575418, 19.575418]\n",
      "\u001b[1m1/1\u001b[0m \u001b[32m━━━━━━━━━━━━━━━━━━━━\u001b[0m\u001b[37m\u001b[0m \u001b[1m0s\u001b[0m 19ms/step\n",
      "\u001b[1m1/1\u001b[0m \u001b[32m━━━━━━━━━━━━━━━━━━━━\u001b[0m\u001b[37m\u001b[0m \u001b[1m0s\u001b[0m 18ms/step\n",
      "\u001b[1m1/1\u001b[0m \u001b[32m━━━━━━━━━━━━━━━━━━━━\u001b[0m\u001b[37m\u001b[0m \u001b[1m0s\u001b[0m 18ms/step\n",
      "\u001b[1m1/1\u001b[0m \u001b[32m━━━━━━━━━━━━━━━━━━━━\u001b[0m\u001b[37m\u001b[0m \u001b[1m0s\u001b[0m 17ms/step\n",
      "Evaluando Generación 3...\n",
      "\n",
      "Fitness de la Generación 3: [19.575418, 19.575418, 20.376476, 19.575418]\n",
      "\n",
      "Mejor individuo (minimizar consumo de combustible): [[-1.49855266e+00 -5.39426825e-01 -7.33794904e-01  1.96283252e+00\n",
      "   1.69831290e+00  2.13243112e+00  1.23753483e+00 -1.50412972e+00\n",
      "   1.11339314e-01  1.37592982e+00 -1.67127567e+00  3.97921850e-01\n",
      "  -1.69577650e+00  1.24343656e+02]\n",
      " [-5.81748221e-01 -1.71003878e+00 -5.49466209e-01  1.93157992e+00\n",
      "   1.74540566e+00  2.87258005e-01 -1.21808707e-01  1.82956139e+00\n",
      "   3.85510416e+00  2.33170650e+00 -5.75960745e-01  1.47870730e-01\n",
      "  -7.72225647e-01  2.83066956e+02]\n",
      " [-2.88761529e+00 -4.77730892e-01 -1.90434465e+00  5.15597346e-01\n",
      "   8.03093710e-02  1.07101593e+00  1.18839104e+00  1.02593485e+00\n",
      "   1.70877275e+00  2.92212070e+00 -1.29913577e+00 -1.14618552e+00\n",
      "  -7.73437678e-01 -1.54345278e+00]\n",
      " [-2.41551365e+00 -8.29938941e-02 -1.61308643e+00  1.52681391e-02\n",
      "   3.23393529e+00 -1.12558845e+00 -1.99595116e-01  1.31146937e+00\n",
      "   9.36263346e-01  4.91580154e-01 -1.02037955e+00 -1.72852775e+00\n",
      "  -1.46541555e+00  8.83375263e-01]]\n",
      "Consumo de combustible predicho (fitness): 19.575418\n"
     ]
    }
   ],
   "source": [
    "import pandas as pd\n",
    "from random import Random\n",
    "from time import time\n",
    "from inspyred import ec\n",
    "from random import Random\n",
    "from time import time\n",
    "import numpy as np\n",
    "\n",
    "import tensorflow as tf\n",
    "\n",
    "# # Cargar el modelo LSTM guardado\n",
    "modelo_lstm = tf.keras.models.load_model('modelo_lstm_14_var.h5')\n",
    "\n",
    "# Leer el archivo Parquet en un DataFrame de pandas\n",
    "df = pd.read_parquet('train_lstm_tail_50.parquet', engine='pyarrow')\n",
    "datos_genetic = df.head(4)\n",
    "\n",
    "# Función para generar los límites dinámicos basados en ±5 unidades\n",
    "def generate_dynamic_limits(row):\n",
    "    \"\"\"\n",
    "    Genera X_min y X_max para una fila específica restando y sumando 5 unidades respectivamente.\n",
    "    \n",
    "    Parameters:\n",
    "    row (array-like): Fila del DataFrame.\n",
    "    \n",
    "    Returns:\n",
    "    X_min, X_max (arrays): Arrays con los límites mínimos y máximos.\n",
    "    \"\"\"\n",
    "    X_min = row - 2\n",
    "    X_max = row + 2\n",
    "    \n",
    "    return X_min, X_max\n",
    "\n",
    "# Función para generar un individuo\n",
    "def generate_individual(random, df, start_index, n_var_independientes):\n",
    "    \"\"\"\n",
    "    Genera un individuo basado en 4 filas consecutivas del DataFrame,\n",
    "    usando los límites dinámicos ±2 para cada valor.\n",
    "    \n",
    "    Parameters:\n",
    "    random (Random): Generador aleatorio.\n",
    "    df (DataFrame): DataFrame con los datos originales.\n",
    "    start_index (int): Índice de inicio para seleccionar las 4 filas consecutivas.\n",
    "    n_var_independientes (int): Número de variables independientes a considerar (columnas).\n",
    "    \n",
    "    Returns:\n",
    "    individual (array): Array de tamaño (4, n_var_independientes) con los valores generados.\n",
    "    \"\"\"\n",
    "    individual = []\n",
    "    \n",
    "    # Asegurarnos de trabajar solo con las primeras `n_var_independientes` columnas\n",
    "    df_independientes = df.iloc[:, :n_var_independientes]\n",
    "    \n",
    "    for i in range(len(datos_genetic)):  # len(datos_genetic)  = 4 (numero de pasos atras que utilizaste para entrenar la LSTM)\n",
    "        # Seleccionar la fila i (de start_index a start_index+3) con solo n_var_independientes columnas\n",
    "        row = df_independientes.iloc[start_index + i].values\n",
    "        \n",
    "        # Generar límites dinámicos para la fila actual\n",
    "        X_min, X_max = generate_dynamic_limits(row)\n",
    "\n",
    "        # Imprimir los límites generados para depuración\n",
    "        #print(f\"Fila {i} - X_min: {X_min}\")\n",
    "        #print(f\"Fila {i} - X_max: {X_max}\")\n",
    "\n",
    "        # Generar una fila del individuo respetando los límites\n",
    "        random_row = [\n",
    "            random.uniform(X_min[j], X_max[j]) for j in range(len(row))\n",
    "        ]\n",
    "        \n",
    "        # Añadir la fila generada al individuo\n",
    "        individual.append(random_row)\n",
    "    \n",
    "    return np.array(individual)\n",
    "\n",
    "# individuo = generate_individual(random, datos_genetic, start_index=0, n_var_independientes=14)\n",
    "# individuo\n",
    "\n",
    "# Función para generar la población mejorada con validaciones y depuración\n",
    "def generate_population(n_individuos_poblacion, random, df, start_index, n_var_independientes):\n",
    "    \"\"\"\n",
    "    Genera una población de individuos.\n",
    "    \n",
    "    Parameters:\n",
    "    pop_size (int): Tamaño de la población(Numero de individuos para la poblacion)\n",
    "    random (Random): Generador aleatorio.\n",
    "    df (DataFrame): DataFrame con los datos originales.\n",
    "    start_index (int): Índice de inicio para seleccionar las filas.\n",
    "    n_var_independientes (int): Número de variables independientes.\n",
    "    \n",
    "    Returns:\n",
    "    list: Lista de individuos generados.\n",
    "    \"\"\"\n",
    "    population = []\n",
    "    \n",
    "    for i in range(n_individuos_poblacion):\n",
    "        # Generar un individuo\n",
    "        individual = generate_individual(random, df, start_index, n_var_independientes)\n",
    "        \n",
    "        # Validar que el individuo se generó correctamente\n",
    "        print(f\"\\nIndividuo {i+1}:\")\n",
    "        print(individual)\n",
    "        \n",
    "        # Añadir el individuo a la población\n",
    "        population.append(individual)\n",
    "    \n",
    "    # Imprimir la forma de la población generada\n",
    "    print(\"\\nTamaño de la población generada:\", len(population))\n",
    "    print(\"Dimensiones de cada individuo:\", np.array(population).shape)\n",
    "    \n",
    "    return population\n",
    "\n",
    "# Generar la población\n",
    "# poblacion = generate_population(n_individuos_poblacion=3, random=random, df=datos_genetic, start_index=0, n_var_independientes=14)\n",
    "# poblacion\n",
    "\n",
    "def fitness_function(candidates, args, modelo_lstm):\n",
    "    fitness_values = []\n",
    "    for candidate in candidates:\n",
    "        # Ajustar la forma del individuo para que sea compatible con la entrada del modelo LSTM\n",
    "        individuo_reshape = np.array(candidate).reshape(1, 4, 14)\n",
    "        \n",
    "        # Realizar la predicción usando el modelo LSTM\n",
    "        prediccion = modelo_lstm.predict(individuo_reshape)\n",
    "        \n",
    "        # Extraer el valor de la predicción (consumo de combustible) y añadirlo a la lista de fitness\n",
    "        fitness_values.append(prediccion[0][0])  # Asegúrate de que `prediccion` tenga la forma correcta\n",
    "    return fitness_values\n",
    "\n",
    "# # Generar la población inicial\n",
    "# poblacion = generate_population(n_individuos_poblacion=3, random=random, df=datos_genetic, start_index=0, n_var_independientes=14)\n",
    "\n",
    "# # # Evaluar la función de fitness en la población generada\n",
    "# fitness_scores = fitness_function(candidates=poblacion, args=None, modelo_lstm=modelo_lstm)\n",
    "# print(f\"Fitness scores: {fitness_scores}\")\\\n",
    "\n",
    "def run_genetic_algorithm(modelo_lstm, df, n_individuos_poblacion=5, generations=5):\n",
    "    # Crear el generador de números aleatorios\n",
    "    prng = Random()\n",
    "    #prng.seed(time())\n",
    "\n",
    "    # Número de variables independientes en cada individuo\n",
    "    n_var_independientes = 14  \n",
    "    start_index = 0  # Índice de inicio para seleccionar las filas en tu dataset\n",
    "    \n",
    "    # # Inicializar la población\n",
    "    # population = generate_population(n_individuos_poblacion, prng, df, start_index, n_var_independientes)\n",
    "    \n",
    "    # Crear el objeto del algoritmo genético (GA)\n",
    "    ea = ec.GA(prng)\n",
    "\n",
    "    # Configurar la función generadora de individuos\n",
    "    def generator(random, args):\n",
    "        return generate_individual(prng, df, start_index, n_var_independientes)\n",
    "    \n",
    "    # Crear un contenedor global para almacenar los fitness de cada generación\n",
    "    fitness_history = {}\n",
    "\n",
    "    #Configurar la función de evaluación (fitness)\n",
    "    def evaluator(candidates, args):\n",
    "        # Evaluar el fitness de todos los candidatos (individuos)\n",
    "        fitness_values = fitness_function(candidates, args, modelo_lstm)\n",
    "        \n",
    "        # Obtener el número de generación actual\n",
    "        current_generation = len(fitness_history) # + 1\n",
    "        print(f\"Evaluando Generación {current_generation}...\")  # Imprimir para verificar\n",
    "        \n",
    "        # Guardar los fitness de la generación actual\n",
    "        fitness_history[current_generation] = fitness_values\n",
    "        \n",
    "        # Mostrar los fitness de la generación actual\n",
    "        print(f\"\\nFitness de la Generación {current_generation}: {fitness_values}\")\n",
    "        \n",
    "        return fitness_values\n",
    "\n",
    "    # Configuración de operadores genéticos\n",
    "    ea.variator = [\n",
    "        ec.variators.uniform_crossover,  # Cruce uniforme\n",
    "        ec.variators.gaussian_mutation   # Mutación gaussiana\n",
    "    ]\n",
    "\n",
    "    # Cambiar el método de reemplazo a generational_replacement\n",
    "    ea.replacer = ec.replacers.generational_replacement\n",
    "    \n",
    "    # ea.replacer = ec.replacers.steady_state_replacement  # Reemplazo en estado estable\n",
    "    ea.selector = ec.selectors.tournament_selection  # Selección por torneo\n",
    "\n",
    "    # Configurar la terminación por número de generaciones\n",
    "    ea.terminator = ec.terminators.generation_termination\n",
    "\n",
    "\n",
    "    # **Aquí agregamos el mensaje antes de la evolución**\n",
    "    print(f\"Ejecutando {generations} generaciones...\")\n",
    "    \n",
    "    # Ejecutar la evolución\n",
    "    final_pop = ea.evolve(\n",
    "        generator=generator,\n",
    "        evaluator=evaluator,\n",
    "        pop_size=n_individuos_poblacion,\n",
    "        maximize=False, #Problema de Minimizacion \n",
    "        num_elites=1,\n",
    "        max_generations=generations\n",
    "    )\n",
    "\n",
    "        \n",
    "    # Obtener el mejor individuo\n",
    "    best_individual = min(final_pop, key=lambda x: x.fitness)\n",
    "    best_fitness = best_individual.fitness\n",
    "\n",
    "    print(\"\\nMejor individuo (minimizar consumo de combustible):\", best_individual.candidate)\n",
    "    print(\"Consumo de combustible predicho (fitness):\", best_fitness)\n",
    "\n",
    "    return best_individual.candidate, best_fitness\n",
    "\n",
    "# Asumiendo que tienes un modelo LSTM entrenado llamado `modelo_lstm`\n",
    "best_individual, best_fitness = run_genetic_algorithm(modelo_lstm, datos_genetic, n_individuos_poblacion=5, generations=3)"
   ]
  }
 ],
 "metadata": {
  "kernelspec": {
   "display_name": "Python 3 (ipykernel)",
   "language": "python",
   "name": "python3"
  },
  "language_info": {
   "codemirror_mode": {
    "name": "ipython",
    "version": 3
   },
   "file_extension": ".py",
   "mimetype": "text/x-python",
   "name": "python",
   "nbconvert_exporter": "python",
   "pygments_lexer": "ipython3",
   "version": "3.11.10"
  }
 },
 "nbformat": 4,
 "nbformat_minor": 5
}
